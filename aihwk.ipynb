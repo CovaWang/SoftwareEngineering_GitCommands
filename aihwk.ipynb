{
 "cells": [
  {
   "cell_type": "code",
   "execution_count": 1,
   "id": "42703269",
   "metadata": {},
   "outputs": [],
   "source": [
    "import numpy as np\n",
    "# gitR12 B3file2"
   ]
  },
  {
   "cell_type": "code",
   "execution_count": 2,
   "id": "3745b9ba",
   "metadata": {},
   "outputs": [
    {
     "name": "stdout",
     "output_type": "stream",
     "text": [
      "[[ 0.0494038 ]\n",
      " [-0.91168422]\n",
      " [ 1.58539836]]\n"
     ]
    }
   ],
   "source": [
    "x=np.mat([[1181.4,1375.7,1501.2,1700.6,2026.6,2577.4,3496.2,4283.0,4838.9,5160.3,5425.1],\n",
    "         [115.96,133.35,128.21,124.85,122.49,129.86,139.52,140.44,139.12,133.35,126.39],\n",
    "         [100,100,100,100,100,100,100,100,100,100,100]])\n",
    "y=np.mat([137.16,124.56,107.91,102.96,125.24,162.45,217.43,253.42,251.07,285.85,327.26])\n",
    "yT=y.T\n",
    "xT=x.T\n",
    "a=np.dot(np.dot(np.linalg.inv(np.dot(x,xT)),x),yT)\n",
    "print(a)"
   ]
  },
  {
   "cell_type": "code",
   "execution_count": 3,
   "id": "1afaf9c5",
   "metadata": {},
   "outputs": [
    {
     "name": "stdout",
     "output_type": "stream",
     "text": [
      "y=1.58539836 + 0.0494038*x_1 + -0.91168422*x_2\n"
     ]
    }
   ],
   "source": [
    "print(\"y=1.58539836 + 0.0494038*x_1 + -0.91168422*x_2\")"
   ]
  },
  {
   "cell_type": "code",
   "execution_count": null,
   "id": "f6dca195",
   "metadata": {},
   "outputs": [],
   "source": []
  }
 ],
 "metadata": {
  "kernelspec": {
   "display_name": "Python 3 (ipykernel)",
   "language": "python",
   "name": "python3"
  },
  "language_info": {
   "codemirror_mode": {
    "name": "ipython",
    "version": 3
   },
   "file_extension": ".py",
   "mimetype": "text/x-python",
   "name": "python",
   "nbconvert_exporter": "python",
   "pygments_lexer": "ipython3",
   "version": "3.9.13"
  }
 },
 "nbformat": 4,
 "nbformat_minor": 5
}
