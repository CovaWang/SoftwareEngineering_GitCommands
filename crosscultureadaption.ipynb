{
 "cells": [
  {
   "cell_type": "code",
   "execution_count": 8,
   "id": "f27fad53",
   "metadata": {},
   "outputs": [],
   "source": [
    "# gitR8 B3file3\n",
    "import numpy as np\n",
    "import pandas as pd\n",
    "import math\n",
    "import pingouin as pg\n",
    "# gitR12 B3file4"
   ]
  },
  {
   "cell_type": "code",
   "execution_count": 14,
   "id": "d762530b",
   "metadata": {},
   "outputs": [],
   "source": [
    "data=np.loadtxt(r\"C:\\Users\\86155\\Desktop\\questionaire.csv\",skiprows=1,delimiter=',')\n",
    "study=data.take([2,3,4,9,10],1)\n",
    "life=data.take([0,5,6,7,8,11,12,13,14,16,17,18,19,20,21,22,23,24,25],1)\n",
    "mental=data.take([6,7],1)\n",
    "culture=data.take([1,8,11],1)"
   ]
  },
  {
   "cell_type": "code",
   "execution_count": 15,
   "id": "6d7aa6ef",
   "metadata": {},
   "outputs": [
    {
     "name": "stdout",
     "output_type": "stream",
     "text": [
      "61.92368421052631\n",
      "30.318421052631585\n",
      "0.53\n"
     ]
    }
   ],
   "source": [
    "df = pd.DataFrame(data)\n",
    "total_row = df.sum(axis=1)\n",
    "#print total_row\n",
    "sy = total_row.var()\n",
    "print(sy) \n",
    "var_column =  df.var()\n",
    "si = var_column.sum()\n",
    "print(si)\n",
    "r = (26.0/25.0)*((sy-si)/sy)\n",
    "CronbachAlphawithFormula=round(r,2)\n",
    "print(CronbachAlphawithFormula)"
   ]
  },
  {
   "cell_type": "code",
   "execution_count": 16,
   "id": "f3f5898b",
   "metadata": {
    "scrolled": true
   },
   "outputs": [
    {
     "name": "stdout",
     "output_type": "stream",
     "text": [
      "(0.5308061705834856, array([0.175, 0.782]))\n"
     ]
    }
   ],
   "source": [
    "CronbachAlphawithLib = pg.cronbach_alpha(data=df)\n",
    "print(CronbachAlphawithLib)"
   ]
  },
  {
   "cell_type": "code",
   "execution_count": 17,
   "id": "6a56e500",
   "metadata": {},
   "outputs": [
    {
     "name": "stdout",
     "output_type": "stream",
     "text": [
      "3.25\n",
      "4.002631578947368\n",
      "3.7\n",
      "3.4833333333333334\n"
     ]
    }
   ],
   "source": [
    "print(np.mean(study))\n",
    "print(np.mean(life))\n",
    "print(np.mean(mental))\n",
    "print(np.mean(culture))"
   ]
  },
  {
   "cell_type": "code",
   "execution_count": null,
   "id": "667f7af5",
   "metadata": {},
   "outputs": [],
   "source": [
    "# 克隆巴赫α系数\n",
    "def cronbach_alpha(df,varlist):\n",
    "    k = len(varlist)\n",
    "    df['sum_of_scale'] = 0\n",
    "    ssi_list = []\n",
    "    for i in varlist:\n",
    "        df['sum_of_scale'] += df.iloc[:,i]\n",
    "        ssi = np.std(df.iloc[:,i]) ** 2\n",
    "        ssi_list.append(ssi)\n",
    "    ssx = np.std(df['sum_of_scale']) ** 2\n",
    "    ssi_sum = np.sum(ssi_list)\n",
    "    alpha = k/(k-1) * (1 - (ssi_sum/ssx))\n",
    "    alpha = round(alpha,3)\n",
    "    return alpha\n",
    "\n",
    "# 给出剔除掉某题之后量表的克隆巴赫α系数，以及所有题目的α系数\n",
    "def cronbach(df,varlist): \n",
    "    try:\n",
    "        alpha_all = cronbach_alpha(df,varlist)\n",
    "        print('量表的克隆巴赫α系数为 {}。'.format(alpha_all))\n",
    "        for i in varlist:\n",
    "            item = varlist.copy()\n",
    "            item.remove(i)\n",
    "            alpha_for_dropi = cronbach_alpha(df,item)\n",
    "            item_name = df.iloc[:,i].name\n",
    "            print('题目名称为：{}，序号为{}'.format(item_name,i))\n",
    "            print('删除该题后的克隆巴赫α系数为：{}'.format(alpha_for_dropi))\n",
    "            print('')\n",
    "        print('报告完毕。')\n",
    "    except:\n",
    "        print('参数输入错误，请重新输入。')"
   ]
  },
  {
   "cell_type": "code",
   "execution_count": null,
   "id": "881748b8",
   "metadata": {},
   "outputs": [],
   "source": [
    "cronbach(df,[i for i in range(8)])#df_prep是DataFrame"
   ]
  }
 ],
 "metadata": {
  "kernelspec": {
   "display_name": "Python 3 (ipykernel)",
   "language": "python",
   "name": "python3"
  },
  "language_info": {
   "codemirror_mode": {
    "name": "ipython",
    "version": 3
   },
   "file_extension": ".py",
   "mimetype": "text/x-python",
   "name": "python",
   "nbconvert_exporter": "python",
   "pygments_lexer": "ipython3",
   "version": "3.9.13"
  }
 },
 "nbformat": 4,
 "nbformat_minor": 5
}
