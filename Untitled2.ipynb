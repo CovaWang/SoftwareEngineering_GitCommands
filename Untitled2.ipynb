{
 "cells": [
  {
   "cell_type": "code",
   "execution_count": 3,
   "id": "b7a1ddd6",
   "metadata": {},
   "outputs": [
    {
     "name": "stdout",
     "output_type": "stream",
     "text": [
      "未来5年老年人口数量预测：\n",
      "2022年：470.3万人\n",
      "2023年：491.4万人\n",
      "2024年：512.5万人\n",
      "2025年：533.6万人\n",
      "2026年：554.7万人\n"
     ]
    }
   ],
   "source": [
    "import numpy as np\n",
    "from sklearn.linear_model import LinearRegression\n",
    "import pandas as pd\n",
    "from sklearn.preprocessing import MinMaxScaler\n",
    "from sklearn.model_selection import train_test_split\n",
    "\n",
    "# 构造数据\n",
    "x = np.array([2016, 2017, 2018, 2019, 2020, 2021]).reshape(-1, 1)\n",
    "y = np.array([342.9, 364.6, 386.4, 407.9, 428.4, 448.1]).reshape(-1, 1)\n",
    "\n",
    "# 建立线性回归模型\n",
    "lr = LinearRegression()\n",
    "lr.fit(x, y)\n",
    "\n",
    "# 预测未来5年老年人口数量\n",
    "x_pred = np.array([2022, 2023, 2024, 2025, 2026]).reshape(-1, 1)\n",
    "y_pred = lr.predict(x_pred)\n",
    "\n",
    "print(\"未来5年老年人口数量预测：\")\n",
    "for i, y in enumerate(y_pred):\n",
    "    print(f\"{2022+i}年：{y[0]:.1f}万人\")"
   ]
  },
  {
   "cell_type": "code",
   "execution_count": 4,
   "id": "af06be14",
   "metadata": {},
   "outputs": [
    {
     "name": "stdout",
     "output_type": "stream",
     "text": [
      "未来5年老年人口占比预测：\n",
      "2022年：65岁及以上老年人口占比为20.45%，80岁及以上老年人口占比为4.59%\n",
      "2023年：65岁及以上老年人口占比为21.24%，80岁及以上老年人口占比为4.65%\n",
      "2024年：65岁及以上老年人口占比为22.04%，80岁及以上老年人口占比为4.71%\n",
      "2025年：65岁及以上老年人口占比为22.83%，80岁及以上老年人口占比为4.78%\n",
      "2026年：65岁及以上老年人口占比为23.62%，80岁及以上老年人口占比为4.84%\n"
     ]
    }
   ],
   "source": [
    "y1 = np.array([16.10, 16.20, 17.00, 18.10, 18.90, 19.80]).reshape(-1, 1)\n",
    "y2 = np.array([4.35, 4.10, 4.25, 4.50, 4.50, 4.50]).reshape(-1, 1)\n",
    "\n",
    "# 建立线性回归模型\n",
    "lr1 = LinearRegression()\n",
    "lr1.fit(x, y1)\n",
    "\n",
    "lr2 = LinearRegression()\n",
    "lr2.fit(x, y2)\n",
    "\n",
    "# 预测未来5年老年人口占比\n",
    "x_pred = np.array([2022, 2023, 2024, 2025, 2026]).reshape(-1, 1)\n",
    "y1_pred = lr1.predict(x_pred)\n",
    "y2_pred = lr2.predict(x_pred)\n",
    "\n",
    "print(\"未来5年老年人口占比预测：\")\n",
    "for i, (y1, y2) in enumerate(zip(y1_pred, y2_pred)):\n",
    "    print(f\"{2022+i}年：65岁及以上老年人口占比为{y1[0]:.2f}%，80岁及以上老年人口占比为{y2[0]:.2f}%\")"
   ]
  },
  {
   "cell_type": "code",
   "execution_count": 5,
   "id": "b7b31eb7",
   "metadata": {},
   "outputs": [
    {
     "ename": "SyntaxError",
     "evalue": "(unicode error) 'unicodeescape' codec can't decode bytes in position 2-3: truncated \\UXXXXXXXX escape (131887443.py, line 1)",
     "output_type": "error",
     "traceback": [
      "\u001b[1;36m  File \u001b[1;32m\"C:\\Users\\86155\\AppData\\Local\\Temp\\ipykernel_5212\\131887443.py\"\u001b[1;36m, line \u001b[1;32m1\u001b[0m\n\u001b[1;33m    data = pd.read_excel(\"C:\\Users\\86155\\Downloads\\data.csv\")  # 读入数据\u001b[0m\n\u001b[1;37m                                                            ^\u001b[0m\n\u001b[1;31mSyntaxError\u001b[0m\u001b[1;31m:\u001b[0m (unicode error) 'unicodeescape' codec can't decode bytes in position 2-3: truncated \\UXXXXXXXX escape\n"
     ]
    }
   ],
   "source": [
    "data = pd.read_excel(\"C:\\Users\\86155\\Downloads\\data.csv\")  # 读入数据\n",
    "X = data.iloc[:, :3]  # 自变量\n",
    "Y = data.iloc[:, 3:]  # 因变量\n",
    "scaler = MinMaxScaler()  # 定义归一化器\n",
    "X = scaler.fit_transform(X)  # 对自变量进行归一化处理\n",
    "\n",
    "X_train, X_test, Y_train, Y_test = train_test_split(X, Y, test_size=0.2, random_state=0)\n",
    "lr = LinearRegression()  # 定义线性回归模型\n",
    "lr.fit(X_train, Y_train)  # 对模型进行拟合"
   ]
  },
  {
   "cell_type": "code",
   "execution_count": null,
   "id": "a04ef2cd",
   "metadata": {},
   "outputs": [],
   "source": [
    "X_pred = np.array([\n",
    "    [79800, 22470, 80.5],\n",
    "    [83550, 24050, 81.2],\n",
    "    [87428, 25640, 81.8],\n",
    "    [91549, 27250, 82.4],\n",
    "    [95819, 28880, 83.1]\n",
    "])  # 构造未来5年的自变量数据\n",
    "X_pred = scaler.transform(X_pred)  # 对自变量进行归一化处理\n",
    "Y_pred = lr.predict(X_pred)  # 对未来5年的因变量进行预测\n",
    "Y_pred = scaler.inverse_transform(Y_pred)  # 将预测结果进行反归一化处理\n",
    "\n",
    "# 输出预测结果\n",
    "print(\"未来5年北京市居家养老、社区养老和机构养老的需求量预测：\")\n",
    "for i, (y1, y2, y3) in enumerate(Y_pred):\n",
    "    print(f\"{2022+i}年：居家养老需求量为{y1:.0f}人，社区养老需求量为{y2:.0f}人，机构养老需求量为{y3:.0f}人\")"
   ]
  }
 ],
 "metadata": {
  "kernelspec": {
   "display_name": "Python 3 (ipykernel)",
   "language": "python",
   "name": "python3"
  },
  "language_info": {
   "codemirror_mode": {
    "name": "ipython",
    "version": 3
   },
   "file_extension": ".py",
   "mimetype": "text/x-python",
   "name": "python",
   "nbconvert_exporter": "python",
   "pygments_lexer": "ipython3",
   "version": "3.9.13"
  }
 },
 "nbformat": 4,
 "nbformat_minor": 5
}
