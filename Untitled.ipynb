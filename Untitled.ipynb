{
 "cells": [
  {
   "cell_type": "code",
   "execution_count": 4,
   "id": "b9897e09",
   "metadata": {},
   "outputs": [],
   "source": [
    "import numpy as np\n",
    "import pandas as pd\n",
    "from sklearn.linear_model import LinearRegression\n",
    "import matplotlib.pyplot as plt\n",
    "\n",
    "data = {\n",
    "    \"year\": [2016, 2017, 2018, 2019, 2020, 2021],\n",
    "    \"income\": [59800, 62550, 65550, 69150, 72900, 76500],\n",
    "    \"social_security\": [13955, 15217, 16460, 17926, 19406, 20900],\n",
    "    \"health_index\": [76.6, 77.3, 77.9, 78.6, 79.2, 79.9]\n",
    "}\n",
    "\n",
    "df = pd.DataFrame(data)\n",
    "df[\"year\"] = df[\"year\"] - df[\"year\"].min()  # 将年份转换为从0开始的整数索引"
   ]
  },
  {
   "cell_type": "code",
   "execution_count": 5,
   "id": "18ec95d9",
   "metadata": {},
   "outputs": [
    {
     "data": {
      "text/plain": [
       "LinearRegression()"
      ]
     },
     "execution_count": 5,
     "metadata": {},
     "output_type": "execute_result"
    }
   ],
   "source": [
    "model_income = LinearRegression()\n",
    "model_income.fit(df[[\"year\"]], df[\"income\"])\n",
    "\n",
    "model_social_security = LinearRegression()\n",
    "model_social_security.fit(df[[\"year\"]], df[\"social_security\"])\n",
    "\n",
    "model_health_index = LinearRegression()\n",
    "model_health_index.fit(df[[\"year\"]], df[\"health_index\"])"
   ]
  },
  {
   "cell_type": "code",
   "execution_count": 6,
   "id": "c695d8a5",
   "metadata": {},
   "outputs": [],
   "source": [
    "future_years = np.arange(6, 11)  # 未来五年的年份\n",
    "future_years_df = pd.DataFrame({\"year\": future_years})\n",
    "\n",
    "future_income = model_income.predict(future_years_df[[\"year\"]])\n",
    "future_social_security = model_social_security.predict(future_years_df[[\"year\"]])\n",
    "future_health_index = model_health_index.predict(future_years_df[[\"year\"]])"
   ]
  },
  {
   "cell_type": "code",
   "execution_count": 8,
   "id": "064ddb82",
   "metadata": {},
   "outputs": [
    {
     "ename": "SyntaxError",
     "evalue": "unexpected character after line continuation character (3230434957.py, line 3)",
     "output_type": "error",
     "traceback": [
      "\u001b[1;36m  File \u001b[1;32m\"C:\\Users\\86155\\AppData\\Local\\Temp\\ipykernel_13532\\3230434957.py\"\u001b[1;36m, line \u001b[1;32m3\u001b[0m\n\u001b[1;33m    plt.plot(df\\[\"year\"], df\\[\"health_index\"], \"o-\", label=\"health index\")\u001b[0m\n\u001b[1;37m                ^\u001b[0m\n\u001b[1;31mSyntaxError\u001b[0m\u001b[1;31m:\u001b[0m unexpected character after line continuation character\n"
     ]
    }
   ],
   "source": [
    "plt.plot(df[\"year\"], df[\"income\"], \"o-\", label=\"income\")\n",
    "plt.plot(df[\"social\\_security\"], \"o-\", label=\"social security\")\n",
    "plt.plot(df\\[\"year\"], df\\[\"health\\_index\"], \"o-\", label=\"health index\")\n",
    "plt.plot(future\\_years, future\\_income, \"o--\", label=\"future income\")\n",
    "plt.plot(future\\_years, future\\_social\\_security, \"o--\", label=\"future social security\")\n",
    "plt.plot(future\\_years, future\\_health\\_index, \"o--\", label=\"future health index\")\n",
    "plt.xlabel(\"Year\")\n",
    "plt.legend()\n",
    "plt.show()"
   ]
  },
  {
   "cell_type": "code",
   "execution_count": null,
   "id": "d2820014",
   "metadata": {},
   "outputs": [],
   "source": []
  }
 ],
 "metadata": {
  "kernelspec": {
   "display_name": "Python 3 (ipykernel)",
   "language": "python",
   "name": "python3"
  },
  "language_info": {
   "codemirror_mode": {
    "name": "ipython",
    "version": 3
   },
   "file_extension": ".py",
   "mimetype": "text/x-python",
   "name": "python",
   "nbconvert_exporter": "python",
   "pygments_lexer": "ipython3",
   "version": "3.9.13"
  }
 },
 "nbformat": 4,
 "nbformat_minor": 5
}
